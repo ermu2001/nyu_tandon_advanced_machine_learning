{
 "cells": [
  {
   "cell_type": "code",
   "execution_count": 1,
   "metadata": {},
   "outputs": [],
   "source": [
    "import matplotlib.pyplot as plt\n",
    "\n",
    "import numpy as np\n",
    "import torch\n",
    "\n",
    "from models import ResNetCifar\n",
    "from datas import get_dataset_cifar10"
   ]
  },
  {
   "cell_type": "markdown",
   "metadata": {},
   "source": [
    "# Data Set"
   ]
  },
  {
   "cell_type": "code",
   "execution_count": 2,
   "metadata": {},
   "outputs": [
    {
     "name": "stdout",
     "output_type": "stream",
     "text": [
      "Files already downloaded and verified\n",
      "Files already downloaded and verified\n",
      "training with number of samples 50000, number of train dataloader 1563\n",
      "testing with number of samples 10000, number of train dataloader 313\n"
     ]
    }
   ],
   "source": [
    "trainset, trainloader, testset, testloader, classes = get_dataset_cifar10(32)\n",
    "print(f'training with number of samples {len(trainset)}, number of train dataloader {len(trainloader)}') \n",
    "print(f'testing with number of samples {len(testset)}, number of train dataloader {len(testloader)}') "
   ]
  },
  {
   "cell_type": "markdown",
   "metadata": {},
   "source": [
    "# Experiment"
   ]
  },
  {
   "cell_type": "code",
   "execution_count": 3,
   "metadata": {},
   "outputs": [],
   "source": [
    "def get_model_dtype(model):\n",
    "    return next(model.parameters()).dtype\n",
    "\n",
    "def train(model, optim):\n",
    "    num_epoch = 20\n",
    "    model = model.to('cuda')\n",
    "    dtype = get_model_dtype(model)\n",
    "    epoch_eval_losses = []\n",
    "    epoch_train_avg_loss = []\n",
    "    epoch_eval_accs = []\n",
    "    batch_train_losses = []\n",
    "    losser = torch.nn.CrossEntropyLoss()\n",
    "    for epoch in range(num_epoch):\n",
    "        epoch_train_losses = []\n",
    "        for batch in trainloader:\n",
    "            samples, labels = batch\n",
    "            samples = samples.to('cuda', dtype=dtype)\n",
    "            labels = labels.to('cuda', dtype=torch.long)\n",
    "            pred = model(samples)\n",
    "            loss = losser(pred, labels)\n",
    "            optim.zero_grad()\n",
    "            loss.backward()\n",
    "            optim.step()\n",
    "            epoch_train_losses.append(loss.item())\n",
    "\n",
    "        num_samples, correct, eval_loss = 0, 0, 0\n",
    "        for batch in testloader:\n",
    "            with torch.no_grad():\n",
    "                samples, labels = batch\n",
    "                samples = samples.to('cuda', dtype=dtype)\n",
    "                labels = labels.to('cuda', dtype=torch.long)\n",
    "                model_output = model(samples)\n",
    "                pred = torch.argmax(model_output, dim=-1)\n",
    "                num_correct = torch.sum(pred == labels)\n",
    "                num_samples += pred.shape[0]\n",
    "                correct += num_correct\n",
    "                eval_loss += torch.nn.functional.cross_entropy(model_output, labels, reduction='none').sum()\n",
    "        \n",
    "        epoch_train_losses = np.array(epoch_train_losses).mean()\n",
    "        epch_eval_loss = eval_loss/num_samples\n",
    "        epoch_eval_acc = correct / num_samples\n",
    "        epoch_train_avg_loss.append(epoch_train_losses.item())\n",
    "        epoch_eval_losses.append(epch_eval_loss.item())\n",
    "        batch_train_losses.extend(epoch_train_avg_loss)\n",
    "        epoch_eval_accs.append(epoch_eval_acc)\n",
    "        print(f'epoch {epoch}, train avg loss {epoch_train_losses}, eval loss {epch_eval_loss: .02f}, eval acc {epoch_eval_acc: .02f}')\n",
    "    return epoch_train_avg_loss, batch_train_losses, epoch_eval_losses, epoch_eval_accs"
   ]
  },
  {
   "cell_type": "markdown",
   "metadata": {},
   "source": [
    "## Train With Adam"
   ]
  },
  {
   "cell_type": "code",
   "execution_count": 4,
   "metadata": {},
   "outputs": [
    {
     "name": "stdout",
     "output_type": "stream",
     "text": [
      "epoch 0, train avg loss 1.2823205189070332, eval loss  0.98, eval acc  0.65\n"
     ]
    }
   ],
   "source": [
    "model = ResNetCifar(n=3)\n",
    "optim = torch.optim.Adam(model.parameters())\n",
    "epoch_train_avg_loss, batch_train_losses, epoch_eval_losses, epoch_eval_accs = train(model, optim)"
   ]
  },
  {
   "cell_type": "markdown",
   "metadata": {},
   "source": [
    "# Plotting the results"
   ]
  },
  {
   "cell_type": "code",
   "execution_count": 6,
   "metadata": {},
   "outputs": [
    {
     "data": {
      "image/png": "[encoded data removed]",
      "text/plain": [
       "<Figure size 640x480 with 1 Axes>"
      ]
     },
     "metadata": {},
     "output_type": "display_data"
    },
    {
     "data": {
      "text/plain": [
       "<matplotlib.legend.Legend at 0x7efcdcca0f40>"
      ]
     },
     "execution_count": 6,
     "metadata": {},
     "output_type": "execute_result"
    },
    {
     "data": {
      "image/png": "[encoded data removed]",
      "text/plain": [
       "<Figure size 640x480 with 1 Axes>"
      ]
     },
     "metadata": {},
     "output_type": "display_data"
    }
   ],
   "source": [
    "\n",
    "plt.plot(range(len(batch_train_losses)), batch_train_losses, label='train total loss')\n",
    "plt.legend()\n",
    "plt.show()\n",
    "\n",
    "plt.plot(range(len(batch_train_losses)), epoch_train_avg_loss, label='epoch train avg loss')\n",
    "plt.plot(range(len(batch_train_losses)), epoch_eval_losses, label='epoch eval losses')\n",
    "plt.legend()\n"
   ]
  },
  {
   "cell_type": "code",
   "execution_count": null,
   "metadata": {},
   "outputs": [],
   "source": []
  }
 ],
 "metadata": {
  "kernelspec": {
   "display_name": "ff",
   "language": "python",
   "name": "python3"
  },
  "language_info": {
   "codemirror_mode": {
    "name": "ipython",
    "version": 3
   },
   "file_extension": ".py",
   "mimetype": "text/x-python",
   "name": "python",
   "nbconvert_exporter": "python",
   "pygments_lexer": "ipython3",
   "version": "3.8.0"
  }
 },
 "nbformat": 4,
 "nbformat_minor": 2
}
