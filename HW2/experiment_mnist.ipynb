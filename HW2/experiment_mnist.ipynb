{
 "cells": [
  {
   "cell_type": "code",
   "execution_count": null,
   "metadata": {},
   "outputs": [],
   "source": [
    "import matplotlib.pyplot as plt\n",
    "\n",
    "import numpy as np\n",
    "import torch\n",
    "\n",
    "from models import LeNet\n",
    "from datas import get_dataset_mnist"
   ]
  },
  {
   "cell_type": "markdown",
   "metadata": {},
   "source": [
    "# Data Set"
   ]
  },
  {
   "cell_type": "code",
   "execution_count": null,
   "metadata": {},
   "outputs": [],
   "source": [
    "trainset, trainloader, testset, testloader, classes = get_dataset_mnist(32)\n",
    "print(f'training with number of samples {len(trainset)}, number of train dataloader {len(trainloader)}') \n",
    "print(f'testing with number of samples {len(testset)}, number of train dataloader {len(testloader)}') "
   ]
  },
  {
   "cell_type": "markdown",
   "metadata": {},
   "source": [
    "# Model"
   ]
  },
  {
   "cell_type": "code",
   "execution_count": null,
   "metadata": {},
   "outputs": [],
   "source": [
    "in_dim, out_dim,  = 1, 4\n",
    "model = LeNet(1, 10)"
   ]
  },
  {
   "cell_type": "markdown",
   "metadata": {},
   "source": [
    "# Train"
   ]
  },
  {
   "cell_type": "code",
   "execution_count": null,
   "metadata": {},
   "outputs": [],
   "source": [
    "def get_model_dtype(model):\n",
    "    return next(model.parameters()).dtype"
   ]
  },
  {
   "cell_type": "code",
   "execution_count": null,
   "metadata": {},
   "outputs": [],
   "source": [
    "model = model.to('cuda')\n",
    "dtype = get_model_dtype(model)\n",
    "losser = torch.nn.CrossEntropyLoss()\n",
    "optim = torch.optim.Adam(model.parameters())\n",
    "total_losses = []\n",
    "print(dtype)\n",
    "num_epoch = 20"
   ]
  },
  {
   "cell_type": "code",
   "execution_count": null,
   "metadata": {},
   "outputs": [],
   "source": [
    "epoch_eval_losses = []\n",
    "epoch_train_avg_loss = []\n",
    "epoch_eval_accs = []\n",
    "batch_losses = []\n",
    "for epoch in range(num_epoch):\n",
    "    epoch_train_losses = []\n",
    "    for batch in trainloader:\n",
    "        samples, labels = batch\n",
    "        samples = samples.to('cuda', dtype=dtype)\n",
    "        labels = labels.to('cuda', dtype=torch.long)\n",
    "        pred = model(samples)\n",
    "        loss = losser(pred, labels)\n",
    "        optim.zero_grad()\n",
    "        loss.backward()\n",
    "        optim.step()\n",
    "        epoch_train_losses.append(loss.item())\n",
    "\n",
    "    num_samples, correct, eval_loss = 0, 0, 0\n",
    "    for batch in testloader:\n",
    "        with torch.no_grad():\n",
    "            samples, labels = batch\n",
    "            samples = samples.to('cuda', dtype=dtype)\n",
    "            labels = labels.to('cuda', dtype=torch.long)\n",
    "            model_output = model(samples)\n",
    "            pred = torch.argmax(model_output, dim=-1)\n",
    "            num_correct = torch.sum(pred == labels)\n",
    "            num_samples += pred.shape[0]\n",
    "            correct += num_correct\n",
    "            eval_loss += torch.nn.functional.cross_entropy(model_output, labels, reduction='none').sum()\n",
    "    \n",
    "    epoch_train_losses = np.array(epoch_train_losses).mean()\n",
    "    epch_eval_loss = eval_loss/num_samples\n",
    "    epoch_eval_acc = correct / num_samples\n",
    "    epoch_train_avg_loss.append(epoch_train_losses.item())\n",
    "    epoch_eval_losses.append(epch_eval_loss.item())\n",
    "    batch_losses.extend(epoch_train_avg_loss)\n",
    "    epoch_eval_accs.append(epoch_eval_acc)\n",
    "    print(f'epoch {epoch}, train avg loss {epoch_train_losses}, eval loss {epch_eval_loss: .02f}, eval acc {epoch_eval_acc: .02f}')"
   ]
  },
  {
   "cell_type": "code",
   "execution_count": null,
   "metadata": {},
   "outputs": [],
   "source": [
    "plt.plot(batch_losses, label='train total loss')\n",
    "plt.legend()\n",
    "plt.show()\n",
    "\n",
    "plt.plot(epoch_train_avg_loss, label='epoch train avg loss')\n",
    "plt.plot(epoch_eval_losses, label='epoch eval losses')\n",
    "plt.legend()\n"
   ]
  },
  {
   "cell_type": "code",
   "execution_count": null,
   "metadata": {},
   "outputs": [],
   "source": []
  }
 ],
 "metadata": {
  "kernelspec": {
   "display_name": "ff",
   "language": "python",
   "name": "python3"
  },
  "language_info": {
   "codemirror_mode": {
    "name": "ipython",
    "version": 3
   },
   "file_extension": ".py",
   "mimetype": "text/x-python",
   "name": "python",
   "nbconvert_exporter": "python",
   "pygments_lexer": "ipython3",
   "version": "3.8.0"
  }
 },
 "nbformat": 4,
 "nbformat_minor": 2
}
