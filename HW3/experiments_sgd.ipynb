{
 "cells": [
  {
   "cell_type": "code",
   "execution_count": 1,
   "metadata": {},
   "outputs": [],
   "source": [
    "\n",
    "import os\n",
    "import os.path as osp\n",
    "import torch.utils.data\n",
    "import numpy as np\n",
    "import tqdm\n",
    "from tqdm.contrib import tenumerate\n",
    "from utils import load_data, Model\n",
    "import pickle as pkl\n"
   ]
  },
  {
   "cell_type": "markdown",
   "metadata": {},
   "source": [
    "# Main Train"
   ]
  },
  {
   "cell_type": "code",
   "execution_count": 2,
   "metadata": {},
   "outputs": [],
   "source": [
    "eval_every = 0.1\n",
    "check_step_ratio = 0.01\n",
    "stop_step_norm = 1e-5\n",
    "def train(batch_size, lr, loss_lambda, num_epochs, save_dir):\n",
    "    os.makedirs(save_dir, exist_ok=True)\n",
    "    # data\n",
    "    train_samples, test_samples = load_data('data1.mat')\n",
    "    train_data = np.stack([sample['x'] for sample in train_samples])\n",
    "    generator = torch.Generator('cpu')\n",
    "    generator.manual_seed(42)\n",
    "    train_loader = torch.utils.data.DataLoader(\n",
    "        train_samples, batch_size=batch_size, shuffle=True, generator=generator\n",
    "    )\n",
    "\n",
    "    test_loader = torch.utils.data.DataLoader(\n",
    "        test_samples, batch_size=1, shuffle=True, generator=generator,\n",
    "    )\n",
    "\n",
    "\n",
    "    # model\n",
    "    model = Model(1, train_data=train_data, loss_lambda=loss_lambda)\n",
    "    accs = []\n",
    "    epoch_losses = []\n",
    "\n",
    "    def eval(num_eval_iters=None):\n",
    "        num_correct, num_samples = 0, 0\n",
    "        num_eval_iters = len(test_loader) if num_eval_iters is None else num_eval_iters\n",
    "        for i, batch in enumerate(test_loader):\n",
    "            if i > num_eval_iters:\n",
    "                break\n",
    "            x = batch['x'].numpy()\n",
    "            y = batch['y'].numpy()\n",
    "            pred = model.predict(x)\n",
    "            pred = pred > 0\n",
    "            gt = y > 0\n",
    "            num_correct += np.sum(gt == pred)\n",
    "            num_samples += y.shape[0]\n",
    "        acc = num_correct / num_samples\n",
    "        return acc\n",
    "\n",
    "    total_steps = len(train_loader) * num_epochs\n",
    "\n",
    "    num_train_iters = len(train_loader)\n",
    "    for epoch in range(num_epochs):\n",
    "        batch_num_samples = []\n",
    "        batch_losses = []\n",
    "        grad_norms = []\n",
    "        for i, batch in tenumerate(train_loader):\n",
    "            x = batch['x'].numpy()\n",
    "            y = batch['y'].numpy()\n",
    "            returns = model.get_loss(x, y)\n",
    "            cur_lr = lr * max((total_steps - epoch * num_train_iters - i) / total_steps, 0.001)\n",
    "            grad_norm = model.sgd(x, y, returns, cur_lr)\n",
    "            loss = returns[0]\n",
    "            grad_norms.append(grad_norm)\n",
    "            batch_losses.append(loss.item())\n",
    "            batch_num_samples.append(x.shape[0])\n",
    "            if i != 0 and i % int(num_train_iters * eval_every) == 0:\n",
    "                print(f'evaluating on epoch {epoch}, step {i} ')\n",
    "                acc = eval(100)\n",
    "                last_n = int(num_train_iters * eval_every)\n",
    "                interval_loss = np.sum(batch_losses[-last_n: ]) / np.sum(batch_num_samples[-last_n: ])\n",
    "                print(f'on epoch {epoch}, step {i}: evaluating interval train loss: {interval_loss} '\n",
    "                      f'eval acc: {100 * acc: .02f}%')\n",
    "\n",
    "            if i != 0 and i % int(num_train_iters * check_step_ratio) == 0:\n",
    "                last_n = int(num_train_iters * check_step_ratio) \n",
    "                avg_step_norm = np.mean(grad_norms[-int(num_train_iters * check_step_ratio):]) \n",
    "                print(f'on epoch {epoch}, step {i}: interval avg_step_norm {avg_step_norm}')\n",
    "                if avg_step_norm < stop_step_norm:\n",
    "                    print(f'on epoch {epoch}, step {i}: avg_step_norm ({avg_step_norm}) < stop_step_norm ({stop_step_norm}), breaking...')\n",
    "                    break\n",
    "\n",
    "        epoch_losses.append(np.sum(batch_losses) / np.sum(batch_num_samples))\n",
    "        acc = eval()\n",
    "        accs.append(acc)\n",
    "        print(f'acc: {100 * acc: .02f}% on epoch {epoch}')\n",
    "        avg_step_norm = np.mean(grad_norms[-int(num_train_iters * check_step_ratio):]) \n",
    "        if avg_step_norm < stop_step_norm:\n",
    "            print(f'on epoch {epoch}, step {i}: avg_step_norm ({avg_step_norm}) < stop_step_norm ({stop_step_norm}), breaking...')\n",
    "            epoch_losses.append(np.sum(batch_losses) / np.sum(batch_num_samples))\n",
    "            break\n",
    "        \n",
    "    with open(osp.join(save_dir, f'weight_epoch{epoch}.pkl'), 'wb') as f:\n",
    "        pkl.dump(model.weights, f)\n",
    "\n",
    "    return epoch_losses, accs\n",
    "            "
   ]
  },
  {
   "cell_type": "code",
   "execution_count": null,
   "metadata": {},
   "outputs": [],
   "source": []
  },
  {
   "cell_type": "code",
   "execution_count": 3,
   "metadata": {},
   "outputs": [],
   "source": [
    "experiment_result_dict = {}\n",
    "loss_lambda=0\n",
    "num_epochs=3\n",
    "lr=0.1"
   ]
  },
  {
   "cell_type": "markdown",
   "metadata": {},
   "source": [
    "# Gradient Descent\n",
    "this takes too much time..."
   ]
  },
  {
   "cell_type": "code",
   "execution_count": 4,
   "metadata": {},
   "outputs": [
    {
     "name": "stdout",
     "output_type": "stream",
     "text": [
      "10.077141124806595\n"
     ]
    },
    {
     "data": {
      "application/vnd.jupyter.widget-view+json": {
       "model_id": "e7c53b0e18ac434ebd0e63d91694bb17",
       "version_major": 2,
       "version_minor": 0
      },
      "text/plain": [
       "  0%|          | 0/1 [00:00<?, ?it/s]"
      ]
     },
     "metadata": {},
     "output_type": "display_data"
    },
    {
     "name": "stdout",
     "output_type": "stream",
     "text": [
      "acc:  50.00% on epoch 0\n"
     ]
    },
    {
     "data": {
      "application/vnd.jupyter.widget-view+json": {
       "model_id": "4d2dcfcf5c7a44eba982a1636ca7238e",
       "version_major": 2,
       "version_minor": 0
      },
      "text/plain": [
       "  0%|          | 0/1 [00:00<?, ?it/s]"
      ]
     },
     "metadata": {},
     "output_type": "display_data"
    },
    {
     "name": "stdout",
     "output_type": "stream",
     "text": [
      "acc:  50.00% on epoch 1\n"
     ]
    },
    {
     "data": {
      "application/vnd.jupyter.widget-view+json": {
       "model_id": "5728cb8e5b5046fca07af7f36576f4b1",
       "version_major": 2,
       "version_minor": 0
      },
      "text/plain": [
       "  0%|          | 0/1 [00:00<?, ?it/s]"
      ]
     },
     "metadata": {},
     "output_type": "display_data"
    },
    {
     "name": "stdout",
     "output_type": "stream",
     "text": [
      "acc:  50.00% on epoch 2\n"
     ]
    },
    {
     "data": {
      "application/vnd.jupyter.widget-view+json": {
       "model_id": "bcbe538a83344b41a2988640754fc728",
       "version_major": 2,
       "version_minor": 0
      },
      "text/plain": [
       "  0%|          | 0/1 [00:00<?, ?it/s]"
      ]
     },
     "metadata": {},
     "output_type": "display_data"
    },
    {
     "name": "stdout",
     "output_type": "stream",
     "text": [
      "acc:  50.00% on epoch 3\n"
     ]
    },
    {
     "data": {
      "application/vnd.jupyter.widget-view+json": {
       "model_id": "7625364fcdd7416fab1808108826b957",
       "version_major": 2,
       "version_minor": 0
      },
      "text/plain": [
       "  0%|          | 0/1 [00:00<?, ?it/s]"
      ]
     },
     "metadata": {},
     "output_type": "display_data"
    },
    {
     "name": "stdout",
     "output_type": "stream",
     "text": [
      "acc:  50.00% on epoch 4\n"
     ]
    },
    {
     "data": {
      "application/vnd.jupyter.widget-view+json": {
       "model_id": "e1dd9eedc25a4a628ba86c1e092f4ccd",
       "version_major": 2,
       "version_minor": 0
      },
      "text/plain": [
       "  0%|          | 0/1 [00:00<?, ?it/s]"
      ]
     },
     "metadata": {},
     "output_type": "display_data"
    },
    {
     "name": "stdout",
     "output_type": "stream",
     "text": [
      "acc:  50.00% on epoch 5\n"
     ]
    },
    {
     "data": {
      "application/vnd.jupyter.widget-view+json": {
       "model_id": "28e3f7479a47437e8c33543cf2d803b1",
       "version_major": 2,
       "version_minor": 0
      },
      "text/plain": [
       "  0%|          | 0/1 [00:00<?, ?it/s]"
      ]
     },
     "metadata": {},
     "output_type": "display_data"
    },
    {
     "name": "stdout",
     "output_type": "stream",
     "text": [
      "acc:  50.00% on epoch 6\n"
     ]
    },
    {
     "data": {
      "application/vnd.jupyter.widget-view+json": {
       "model_id": "dd89b426ae5742daabc7a52c4d9e74a8",
       "version_major": 2,
       "version_minor": 0
      },
      "text/plain": [
       "  0%|          | 0/1 [00:00<?, ?it/s]"
      ]
     },
     "metadata": {},
     "output_type": "display_data"
    },
    {
     "name": "stdout",
     "output_type": "stream",
     "text": [
      "acc:  50.00% on epoch 7\n"
     ]
    },
    {
     "data": {
      "application/vnd.jupyter.widget-view+json": {
       "model_id": "68f5ff3bc340463493c6a14016120caf",
       "version_major": 2,
       "version_minor": 0
      },
      "text/plain": [
       "  0%|          | 0/1 [00:00<?, ?it/s]"
      ]
     },
     "metadata": {},
     "output_type": "display_data"
    },
    {
     "name": "stdout",
     "output_type": "stream",
     "text": [
      "acc:  50.00% on epoch 8\n"
     ]
    },
    {
     "data": {
      "application/vnd.jupyter.widget-view+json": {
       "model_id": "304fc9c70f0c4beea2eaa84c91e0013b",
       "version_major": 2,
       "version_minor": 0
      },
      "text/plain": [
       "  0%|          | 0/1 [00:00<?, ?it/s]"
      ]
     },
     "metadata": {},
     "output_type": "display_data"
    },
    {
     "name": "stdout",
     "output_type": "stream",
     "text": [
      "acc:  50.20% on epoch 9\n"
     ]
    },
    {
     "data": {
      "application/vnd.jupyter.widget-view+json": {
       "model_id": "3ca04b5c66264ae2b1453c52260dfe36",
       "version_major": 2,
       "version_minor": 0
      },
      "text/plain": [
       "  0%|          | 0/1 [00:00<?, ?it/s]"
      ]
     },
     "metadata": {},
     "output_type": "display_data"
    },
    {
     "name": "stdout",
     "output_type": "stream",
     "text": [
      "acc:  50.30% on epoch 10\n"
     ]
    },
    {
     "data": {
      "application/vnd.jupyter.widget-view+json": {
       "model_id": "93ae4f8b510d4b3895dd73207fce1338",
       "version_major": 2,
       "version_minor": 0
      },
      "text/plain": [
       "  0%|          | 0/1 [00:00<?, ?it/s]"
      ]
     },
     "metadata": {},
     "output_type": "display_data"
    },
    {
     "name": "stdout",
     "output_type": "stream",
     "text": [
      "acc:  51.30% on epoch 11\n"
     ]
    },
    {
     "data": {
      "application/vnd.jupyter.widget-view+json": {
       "model_id": "2d7a2953db1a4fa09ed82c172d00c600",
       "version_major": 2,
       "version_minor": 0
      },
      "text/plain": [
       "  0%|          | 0/1 [00:00<?, ?it/s]"
      ]
     },
     "metadata": {},
     "output_type": "display_data"
    },
    {
     "name": "stdout",
     "output_type": "stream",
     "text": [
      "acc:  52.20% on epoch 12\n"
     ]
    },
    {
     "data": {
      "application/vnd.jupyter.widget-view+json": {
       "model_id": "a08d241925d2408cb65f96cc89b59280",
       "version_major": 2,
       "version_minor": 0
      },
      "text/plain": [
       "  0%|          | 0/1 [00:00<?, ?it/s]"
      ]
     },
     "metadata": {},
     "output_type": "display_data"
    },
    {
     "name": "stdout",
     "output_type": "stream",
     "text": [
      "acc:  53.50% on epoch 13\n"
     ]
    },
    {
     "data": {
      "application/vnd.jupyter.widget-view+json": {
       "model_id": "bab725322401469bb6a25bac4d3ef04a",
       "version_major": 2,
       "version_minor": 0
      },
      "text/plain": [
       "  0%|          | 0/1 [00:00<?, ?it/s]"
      ]
     },
     "metadata": {},
     "output_type": "display_data"
    },
    {
     "name": "stdout",
     "output_type": "stream",
     "text": [
      "acc:  55.30% on epoch 14\n"
     ]
    },
    {
     "data": {
      "application/vnd.jupyter.widget-view+json": {
       "model_id": "cbd561aea92d486baefa75a96c7a63e3",
       "version_major": 2,
       "version_minor": 0
      },
      "text/plain": [
       "  0%|          | 0/1 [00:00<?, ?it/s]"
      ]
     },
     "metadata": {},
     "output_type": "display_data"
    },
    {
     "name": "stdout",
     "output_type": "stream",
     "text": [
      "acc:  56.90% on epoch 15\n"
     ]
    },
    {
     "data": {
      "application/vnd.jupyter.widget-view+json": {
       "model_id": "9266d85425d04e5da5a7fd97a39c339d",
       "version_major": 2,
       "version_minor": 0
      },
      "text/plain": [
       "  0%|          | 0/1 [00:00<?, ?it/s]"
      ]
     },
     "metadata": {},
     "output_type": "display_data"
    },
    {
     "ename": "KeyboardInterrupt",
     "evalue": "",
     "output_type": "error",
     "traceback": [
      "\u001b[0;31m---------------------------------------------------------------------------\u001b[0m",
      "\u001b[0;31mKeyboardInterrupt\u001b[0m                         Traceback (most recent call last)",
      "Cell \u001b[0;32mIn[4], line 1\u001b[0m\n\u001b[0;32m----> 1\u001b[0m epoch_losses, accs \u001b[38;5;241m=\u001b[39m \u001b[43mtrain\u001b[49m\u001b[43m(\u001b[49m\n\u001b[1;32m      2\u001b[0m \u001b[43m    \u001b[49m\u001b[43mbatch_size\u001b[49m\u001b[43m \u001b[49m\u001b[38;5;241;43m=\u001b[39;49m\u001b[43m \u001b[49m\u001b[38;5;241;43m10000\u001b[39;49m\u001b[43m,\u001b[49m\n\u001b[1;32m      3\u001b[0m \u001b[43m    \u001b[49m\u001b[43msave_dir\u001b[49m\u001b[43m \u001b[49m\u001b[38;5;241;43m=\u001b[39;49m\u001b[43m \u001b[49m\u001b[38;5;124;43m'\u001b[39;49m\u001b[38;5;124;43mgd\u001b[39;49m\u001b[38;5;124;43m'\u001b[39;49m\u001b[43m,\u001b[49m\n\u001b[1;32m      4\u001b[0m \u001b[43m    \u001b[49m\u001b[43mlr\u001b[49m\u001b[43m \u001b[49m\u001b[38;5;241;43m=\u001b[39;49m\u001b[43m \u001b[49m\u001b[43mlr\u001b[49m\u001b[43m \u001b[49m\u001b[38;5;241;43m/\u001b[39;49m\u001b[43m \u001b[49m\u001b[38;5;241;43m100\u001b[39;49m\u001b[43m \u001b[49m\u001b[43m,\u001b[49m\n\u001b[1;32m      5\u001b[0m \u001b[43m    \u001b[49m\u001b[43mloss_lambda\u001b[49m\u001b[43m \u001b[49m\u001b[38;5;241;43m=\u001b[39;49m\u001b[43m \u001b[49m\u001b[43mloss_lambda\u001b[49m\u001b[43m,\u001b[49m\n\u001b[1;32m      6\u001b[0m \u001b[43m    \u001b[49m\u001b[43mnum_epochs\u001b[49m\u001b[38;5;241;43m=\u001b[39;49m\u001b[38;5;241;43m50\u001b[39;49m\u001b[43m,\u001b[49m\n\u001b[1;32m      7\u001b[0m \u001b[43m)\u001b[49m\n\u001b[1;32m      9\u001b[0m experiment_result_dict[\u001b[38;5;124m'\u001b[39m\u001b[38;5;124mgradient_descent\u001b[39m\u001b[38;5;124m'\u001b[39m] \u001b[38;5;241m=\u001b[39m {\n\u001b[1;32m     10\u001b[0m     \u001b[38;5;124m'\u001b[39m\u001b[38;5;124maccs\u001b[39m\u001b[38;5;124m'\u001b[39m: accs,\n\u001b[1;32m     11\u001b[0m     \u001b[38;5;124m'\u001b[39m\u001b[38;5;124mepoch_losses\u001b[39m\u001b[38;5;124m'\u001b[39m: epoch_losses\n\u001b[1;32m     12\u001b[0m }\n",
      "Cell \u001b[0;32mIn[2], line 51\u001b[0m, in \u001b[0;36mtrain\u001b[0;34m(batch_size, lr, loss_lambda, num_epochs, save_dir)\u001b[0m\n\u001b[1;32m     49\u001b[0m x \u001b[38;5;241m=\u001b[39m batch[\u001b[38;5;124m'\u001b[39m\u001b[38;5;124mx\u001b[39m\u001b[38;5;124m'\u001b[39m]\u001b[38;5;241m.\u001b[39mnumpy()\n\u001b[1;32m     50\u001b[0m y \u001b[38;5;241m=\u001b[39m batch[\u001b[38;5;124m'\u001b[39m\u001b[38;5;124my\u001b[39m\u001b[38;5;124m'\u001b[39m]\u001b[38;5;241m.\u001b[39mnumpy()\n\u001b[0;32m---> 51\u001b[0m returns \u001b[38;5;241m=\u001b[39m \u001b[43mmodel\u001b[49m\u001b[38;5;241;43m.\u001b[39;49m\u001b[43mget_loss\u001b[49m\u001b[43m(\u001b[49m\u001b[43mx\u001b[49m\u001b[43m,\u001b[49m\u001b[43m \u001b[49m\u001b[43my\u001b[49m\u001b[43m)\u001b[49m\n\u001b[1;32m     52\u001b[0m cur_lr \u001b[38;5;241m=\u001b[39m lr \u001b[38;5;241m*\u001b[39m \u001b[38;5;28mmax\u001b[39m((total_steps \u001b[38;5;241m-\u001b[39m epoch \u001b[38;5;241m*\u001b[39m num_train_iters \u001b[38;5;241m-\u001b[39m i) \u001b[38;5;241m/\u001b[39m total_steps, \u001b[38;5;241m0.001\u001b[39m)\n\u001b[1;32m     53\u001b[0m grad_norm \u001b[38;5;241m=\u001b[39m model\u001b[38;5;241m.\u001b[39msgd(x, y, returns, cur_lr)\n",
      "File \u001b[0;32m~/COURSES/AML/HW3/utils.py:66\u001b[0m, in \u001b[0;36mModel.get_loss\u001b[0;34m(self, features, labels)\u001b[0m\n\u001b[1;32m     64\u001b[0m returns \u001b[38;5;241m=\u001b[39m \u001b[38;5;28mtuple\u001b[39m()\n\u001b[1;32m     65\u001b[0m bsz, dim \u001b[38;5;241m=\u001b[39m features\u001b[38;5;241m.\u001b[39mshape\n\u001b[0;32m---> 66\u001b[0m features \u001b[38;5;241m=\u001b[39m \u001b[38;5;28;43mself\u001b[39;49m\u001b[38;5;241;43m.\u001b[39;49m\u001b[43mcompute_k_vec\u001b[49m\u001b[43m(\u001b[49m\u001b[43mfeatures\u001b[49m\u001b[43m)\u001b[49m\n\u001b[1;32m     67\u001b[0m returns \u001b[38;5;241m=\u001b[39m (features, ) \u001b[38;5;241m+\u001b[39m returns \u001b[38;5;66;03m# 5\u001b[39;00m\n\u001b[1;32m     68\u001b[0m features \u001b[38;5;241m=\u001b[39m np\u001b[38;5;241m.\u001b[39mmatmul(features, \u001b[38;5;28mself\u001b[39m\u001b[38;5;241m.\u001b[39mweights)\n",
      "File \u001b[0;32m~/COURSES/AML/HW3/utils.py:56\u001b[0m, in \u001b[0;36mModel.compute_k_vec\u001b[0;34m(self, x)\u001b[0m\n\u001b[1;32m     54\u001b[0m k \u001b[38;5;241m=\u001b[39m np\u001b[38;5;241m.\u001b[39mzeros((n, N))\n\u001b[1;32m     55\u001b[0m \u001b[38;5;28;01mfor\u001b[39;00m i \u001b[38;5;129;01min\u001b[39;00m \u001b[38;5;28mrange\u001b[39m(n):\n\u001b[0;32m---> 56\u001b[0m     k[i] \u001b[38;5;241m=\u001b[39m np\u001b[38;5;241m.\u001b[39msqrt(np\u001b[38;5;241m.\u001b[39msum(\u001b[43mnp\u001b[49m\u001b[38;5;241;43m.\u001b[39;49m\u001b[43msquare\u001b[49m\u001b[43m(\u001b[49m\u001b[43mx\u001b[49m\u001b[43m[\u001b[49m\u001b[43mi\u001b[49m\u001b[43m]\u001b[49m\u001b[43m \u001b[49m\u001b[38;5;241;43m-\u001b[39;49m\u001b[43m \u001b[49m\u001b[38;5;28;43mself\u001b[39;49m\u001b[38;5;241;43m.\u001b[39;49m\u001b[43mtrain_data\u001b[49m\u001b[43m)\u001b[49m, axis\u001b[38;5;241m=\u001b[39m\u001b[38;5;241m-\u001b[39m\u001b[38;5;241m1\u001b[39m))\n\u001b[1;32m     58\u001b[0m k \u001b[38;5;241m=\u001b[39m np\u001b[38;5;241m.\u001b[39mexp( \u001b[38;5;241m-\u001b[39m k \u001b[38;5;241m/\u001b[39m \u001b[38;5;28mself\u001b[39m\u001b[38;5;241m.\u001b[39mrbf_co \u001b[38;5;241m/\u001b[39m \u001b[38;5;241m2\u001b[39m)\n\u001b[1;32m     59\u001b[0m \u001b[38;5;28;01mreturn\u001b[39;00m k\n",
      "\u001b[0;31mKeyboardInterrupt\u001b[0m: "
     ]
    }
   ],
   "source": [
    "epoch_losses, accs = train(\n",
    "    batch_size = 10000,\n",
    "    save_dir = 'gd',\n",
    "    lr = lr / 100 ,\n",
    "    loss_lambda = loss_lambda,\n",
    "    num_epochs=50,\n",
    ")\n",
    "\n",
    "experiment_result_dict['gradient_descent'] = {\n",
    "    'accs': accs,\n",
    "    'epoch_losses': epoch_losses\n",
    "}\n"
   ]
  },
  {
   "cell_type": "markdown",
   "metadata": {},
   "source": [
    "# Batch Size 1 Setting"
   ]
  },
  {
   "cell_type": "code",
   "execution_count": null,
   "metadata": {},
   "outputs": [],
   "source": [
    "epoch_losses, accs = train(\n",
    "    batch_size = 1,\n",
    "    save_dir = 'sgd_bsz1',\n",
    "    lr = lr,\n",
    "    loss_lambda = loss_lambda,\n",
    "    num_epochs=num_epochs,\n",
    ")\n",
    "\n",
    "experiment_result_dict['batch_size=1'] = {\n",
    "    'accs': accs,\n",
    "    'epoch_losses': epoch_losses\n",
    "}\n"
   ]
  },
  {
   "cell_type": "markdown",
   "metadata": {},
   "source": [
    "# Batch Size 10"
   ]
  },
  {
   "cell_type": "code",
   "execution_count": null,
   "metadata": {},
   "outputs": [],
   "source": [
    "epoch_losses, accs = train(\n",
    "    batch_size = 10,\n",
    "    save_dir = 'sgd_bsz10',\n",
    "    lr = lr, # seems like need to down scale the learning rate for batch size 100???\n",
    "    loss_lambda = 0,\n",
    "    num_epochs = num_epochs,\n",
    ")\n",
    "# converges when bsz = 15\n",
    "# doesn't converges  when bsz >= 20\n",
    "experiment_result_dict['batch_size=10'] = {\n",
    "    'accs': accs,\n",
    "    'epoch_losses': epoch_losses\n",
    "}\n"
   ]
  },
  {
   "cell_type": "markdown",
   "metadata": {},
   "source": [
    "# Batch Size 100"
   ]
  },
  {
   "cell_type": "code",
   "execution_count": null,
   "metadata": {},
   "outputs": [],
   "source": [
    "epoch_losses, accs = train(\n",
    "    batch_size = 100,\n",
    "    save_dir = 'sgd_bsz100',\n",
    "    lr = lr, # seems like need to down scale the learning rate for batch size 100???\n",
    "    loss_lambda = 0,\n",
    "    num_epochs = num_epochs,\n",
    ")\n",
    "# converges when bsz = 15\n",
    "# doesn't converges  when bsz >= 20\n",
    "experiment_result_dict['batch_size=100'] = {\n",
    "    'accs': accs,\n",
    "    'epoch_losses': epoch_losses\n",
    "}\n"
   ]
  },
  {
   "cell_type": "markdown",
   "metadata": {},
   "source": [
    "# Plotting"
   ]
  },
  {
   "cell_type": "code",
   "execution_count": null,
   "metadata": {},
   "outputs": [],
   "source": [
    "experiment_result_dict"
   ]
  },
  {
   "cell_type": "code",
   "execution_count": null,
   "metadata": {},
   "outputs": [],
   "source": [
    "# accs\n",
    "from matplotlib import pyplot as plt\n",
    "\n",
    "for experiment_name, experiment_result in experiment_result_dict.items():\n",
    "    plt.plot(experiment_result['accs'], label=experiment_name)\n",
    "\n",
    "plt.title('sgd accuracy curve')\n",
    "plt.show()\n",
    "\n",
    "\n",
    "# epoch losses\n",
    "\n",
    "for experiment_name, experiment_result in experiment_result_dict.items():\n",
    "    plt.plot(np.array(experiment_result['epoch_losses']), label=experiment_name)\n",
    "\n",
    "plt.title('epoch losses')\n",
    "plt.legend()\n",
    "plt.show()"
   ]
  },
  {
   "cell_type": "code",
   "execution_count": null,
   "metadata": {},
   "outputs": [],
   "source": []
  },
  {
   "cell_type": "markdown",
   "metadata": {},
   "source": [
    "# Train BFGS"
   ]
  },
  {
   "cell_type": "markdown",
   "metadata": {},
   "source": []
  }
 ],
 "metadata": {
  "kernelspec": {
   "display_name": "dl",
   "language": "python",
   "name": "python3"
  },
  "language_info": {
   "codemirror_mode": {
    "name": "ipython",
    "version": 3
   },
   "file_extension": ".py",
   "mimetype": "text/x-python",
   "name": "python",
   "nbconvert_exporter": "python",
   "pygments_lexer": "ipython3",
   "version": "3.10.13"
  }
 },
 "nbformat": 4,
 "nbformat_minor": 2
}
