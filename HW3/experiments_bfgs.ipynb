{
 "cells": [
  {
   "cell_type": "code",
   "execution_count": null,
   "metadata": {},
   "outputs": [],
   "source": [
    "\n",
    "import os\n",
    "import os.path as osp\n",
    "import torch.utils.data\n",
    "import numpy as np\n",
    "import tqdm\n",
    "from tqdm.contrib import tenumerate\n",
    "from utils import load_data, Model\n",
    "import pickle as pkl\n"
   ]
  },
  {
   "cell_type": "markdown",
   "metadata": {},
   "source": [
    "# Train BFGS"
   ]
  },
  {
   "cell_type": "code",
   "execution_count": null,
   "metadata": {},
   "outputs": [],
   "source": [
    "eval_every = 0.1\n",
    "check_step_ratio = 0.01\n",
    "stop_step_norm = 1e-5\n",
    "def train_bfgs(batch_size, lr, loss_lambda, num_epochs, save_dir):\n",
    "    os.makedirs(save_dir, exist_ok=True)\n",
    "    # data\n",
    "    train_samples, test_samples = load_data('data1_sub.mat')\n",
    "    train_data = np.stack([sample['x'] for sample in train_samples])\n",
    "    test_data = np.stack([sample['x'] for sample in test_samples])\n",
    "    generator = torch.Generator('cpu')\n",
    "    generator.manual_seed(42)\n",
    "    train_samples =[ {'x': i, 'y': sample['y']} for i, sample in enumerate(train_samples)] # using index as the kernel would be precomputed\n",
    "    test_samples =[ {'x': i, 'y': sample['y']} for i, sample in enumerate(test_samples)] # using index as the kernel would be precomputed\n",
    "    train_loader = torch.utils.data.DataLoader(\n",
    "        train_samples, batch_size=batch_size, shuffle=True, generator=generator\n",
    "    )\n",
    "\n",
    "    test_loader = torch.utils.data.DataLoader(\n",
    "        test_samples, batch_size=1, shuffle=True, generator=generator,\n",
    "    )\n",
    "\n",
    "\n",
    "    # model\n",
    "    model = Model(1, train_data=train_data, test_data=test_data, loss_lambda=loss_lambda)\n",
    "    accs = []\n",
    "    epoch_losses = []\n",
    "\n",
    "    def eval(num_eval_iters=None):\n",
    "        num_correct, num_samples = 0, 0\n",
    "        num_eval_iters = len(test_loader) if num_eval_iters is None else num_eval_iters\n",
    "        for i, batch in enumerate(test_loader):\n",
    "            if i > num_eval_iters:\n",
    "                break\n",
    "            x = batch['x'].numpy()\n",
    "            y = batch['y'].numpy()\n",
    "            pred = model.predict(x)\n",
    "            pred = pred > 0\n",
    "            gt = y > 0\n",
    "            num_correct += np.sum(gt == pred)\n",
    "            num_samples += y.shape[0]\n",
    "        acc = num_correct / num_samples\n",
    "        return acc\n",
    "\n",
    "    total_steps = len(train_loader) * num_epochs\n",
    "\n",
    "    num_train_iters = len(train_loader)\n",
    "    for epoch in range(num_epochs):\n",
    "        batch_num_samples = []\n",
    "        batch_losses = []\n",
    "        grad_norms = []\n",
    "        for i, batch in enumerate(train_loader):\n",
    "            x = batch['x'].numpy()\n",
    "            y = batch['y'].numpy()\n",
    "            returns = model.get_loss(x, y)\n",
    "            # cur_lr = lr * max((total_steps - epoch * num_train_iters - i) / total_steps, 0.001)\n",
    "            cur_lr = lr\n",
    "            grad_norm = model.bfgs(x, y, returns, cur_lr)\n",
    "            loss = returns[0]\n",
    "            grad_norms.append(grad_norm)\n",
    "            batch_losses.append(loss.item())\n",
    "            batch_num_samples.append(x.shape[0])\n",
    "            # if i != 0 and i % int(num_train_iters * eval_every) == 0:\n",
    "            #     print(f'evaluating on epoch {epoch}, step {i} ')\n",
    "            #     acc = eval(100)\n",
    "            #     last_n = int(num_train_iters * eval_every)\n",
    "            #     interval_loss = np.sum(batch_losses[-last_n: ]) / np.sum(batch_num_samples[-last_n: ])\n",
    "            #     print(f'on epoch {epoch}, step {i}: evaluating interval train loss: {interval_loss} '\n",
    "            #           f'eval acc: {100 * acc: .02f}%')\n",
    "            # if i != 0 and i % int(num_train_iters * check_step_ratio) == 0:\n",
    "            #     last_n = int(num_train_iters * check_step_ratio) \n",
    "            #     avg_step_norm = np.mean(grad_norms[-int(num_train_iters * check_step_ratio):]) \n",
    "            #     print(f'on epoch {epoch}, step {i}: interval avg_step_norm {avg_step_norm}')\n",
    "            #     if avg_step_norm < stop_step_norm:\n",
    "            #         print(f'on epoch {epoch}, step {i}: avg_step_norm ({avg_step_norm}) < stop_step_norm ({stop_step_norm}), breaking...')\n",
    "            #         break\n",
    "\n",
    "        epoch_losses.append(np.sum(batch_losses))\n",
    "        acc = eval()\n",
    "        accs.append(acc)\n",
    "        print(f'on epoch {epoch}: acc: {100 * acc: .02f}%')\n",
    "        print(f'on epoch {epoch}: epoch total loss: {epoch_losses[-1]: .02f}')\n",
    "        # avg_step_norm = np.mean(grad_norms[-int(num_train_iters * check_step_ratio):]) \n",
    "        # if avg_step_norm < stop_step_norm:\n",
    "        #     print(f'on epoch {epoch}, step {i}: avg_step_norm ({avg_step_norm}) < stop_step_norm ({stop_step_norm}), breaking...')\n",
    "        #     epoch_losses.append(np.sum(batch_losses) / np.sum(batch_num_samples))\n",
    "        #     break\n",
    "        \n",
    "    # with open(osp.join(save_dir, f'weight_epoch{epoch}.pkl'), 'wb') as f:\n",
    "    #     pkl.dump(model.weights, f)\n",
    "\n",
    "    return epoch_losses, accs\n",
    "            "
   ]
  },
  {
   "cell_type": "code",
   "execution_count": null,
   "metadata": {},
   "outputs": [],
   "source": []
  },
  {
   "cell_type": "markdown",
   "metadata": {},
   "source": [
    "# Main Hyper Parameters"
   ]
  },
  {
   "cell_type": "code",
   "execution_count": null,
   "metadata": {},
   "outputs": [],
   "source": [
    "experiment_result_dict = {}\n",
    "loss_lambda=1e-3\n",
    "num_epochs=200\n",
    "# num_epochs=100\n",
    "lr=10"
   ]
  },
  {
   "cell_type": "markdown",
   "metadata": {},
   "source": [
    "# BFGS"
   ]
  },
  {
   "cell_type": "code",
   "execution_count": null,
   "metadata": {},
   "outputs": [],
   "source": [
    "\n",
    "# might be some bug in bfgs\n",
    "epoch_losses, accs = train_bfgs(\n",
    "    batch_size = 4000,\n",
    "    save_dir = 'bfgs',\n",
    "    lr = lr, # seems like need to down scale the learning rate for batch size 100???\n",
    "    loss_lambda = 0,\n",
    "    num_epochs = num_epochs,\n",
    ")\n",
    "# converges when bsz = 15\n",
    "# doesn't converges  when bsz >= 20\n",
    "experiment_result_dict['batch_size=100'] = {\n",
    "    'accs': accs,\n",
    "    'epoch_losses': epoch_losses\n",
    "}\n"
   ]
  },
  {
   "cell_type": "code",
   "execution_count": null,
   "metadata": {},
   "outputs": [],
   "source": [
    "# epoch_losses, accs = train_bfgs(\n",
    "#     batch_size = 1,\n",
    "#     save_dir = 'bfgs',\n",
    "#     lr = lr, # seems like need to down scale the learning rate for batch size 100???\n",
    "#     loss_lambda = 0,\n",
    "#     num_epochs = num_epochs,\n",
    "# )\n",
    "# # converges when bsz = 15\n",
    "# # doesn't converges  when bsz >= 20\n",
    "# experiment_result_dict['batch_size=100'] = {\n",
    "#     'accs': accs,\n",
    "#     'epoch_losses': epoch_losses\n",
    "# }\n"
   ]
  },
  {
   "cell_type": "markdown",
   "metadata": {},
   "source": [
    "# Plotting"
   ]
  },
  {
   "cell_type": "code",
   "execution_count": null,
   "metadata": {},
   "outputs": [],
   "source": []
  },
  {
   "cell_type": "code",
   "execution_count": null,
   "metadata": {},
   "outputs": [],
   "source": [
    "experiment_result_dict"
   ]
  },
  {
   "cell_type": "code",
   "execution_count": null,
   "metadata": {},
   "outputs": [],
   "source": [
    "# accs\n",
    "from matplotlib import pyplot as plt\n",
    "\n",
    "for experiment_name, experiment_result in experiment_result_dict.items():\n",
    "    plt.plot(experiment_result['accs'], label=experiment_name)\n",
    "\n",
    "plt.title('sgd accuracy curve')\n",
    "plt.show()\n",
    "\n",
    "\n",
    "# epoch losses\n",
    "\n",
    "for experiment_name, experiment_result in experiment_result_dict.items():\n",
    "    plt.plot(np.array(experiment_result['epoch_losses']), label=experiment_name)\n",
    "\n",
    "plt.title('epoch losses')\n",
    "plt.legend()\n",
    "plt.show()"
   ]
  },
  {
   "cell_type": "code",
   "execution_count": null,
   "metadata": {},
   "outputs": [],
   "source": []
  },
  {
   "cell_type": "markdown",
   "metadata": {},
   "source": []
  }
 ],
 "metadata": {
  "kernelspec": {
   "display_name": "dl",
   "language": "python",
   "name": "python3"
  },
  "language_info": {
   "codemirror_mode": {
    "name": "ipython",
    "version": 3
   },
   "file_extension": ".py",
   "mimetype": "text/x-python",
   "name": "python",
   "nbconvert_exporter": "python",
   "pygments_lexer": "ipython3",
   "version": "3.10.13"
  }
 },
 "nbformat": 4,
 "nbformat_minor": 2
}
